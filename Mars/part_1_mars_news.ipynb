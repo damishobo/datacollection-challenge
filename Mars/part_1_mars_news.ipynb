{
 "cells": [
  {
   "cell_type": "markdown",
   "metadata": {},
   "source": [
    "# Module 12 Challenge\n",
    "## Deliverable 1: Scrape Titles and Preview Text from Mars News"
   ]
  },
  {
   "cell_type": "code",
   "execution_count": 1,
   "metadata": {},
   "outputs": [],
   "source": [
    "# Import Splinter and BeautifulSoup\n",
    "from splinter import Browser\n",
    "from bs4 import BeautifulSoup as soup\n",
    "from webdriver_manager.chrome import ChromeDriverManager"
   ]
  },
  {
   "cell_type": "code",
   "execution_count": 2,
   "metadata": {
    "scrolled": true
   },
   "outputs": [],
   "source": [
    "executable_path = {'executable_path': ChromeDriverManager().install()}\n",
    "browser = Browser('chrome', **executable_path, headless=False)"
   ]
  },
  {
   "cell_type": "markdown",
   "metadata": {},
   "source": [
    "### Step 1: Visit the Website\n",
    "\n",
    "1. Use automated browsing to visit the [Mars news site](https://static.bc-edx.com/data/web/mars_news/index.html). Inspect the page to identify which elements to scrape.\n",
    "\n",
    "      > **Hint** To identify which elements to scrape, you might want to inspect the page by using Chrome DevTools."
   ]
  },
  {
   "cell_type": "code",
   "execution_count": 3,
   "metadata": {},
   "outputs": [],
   "source": [
    "# Visit the Mars news site: https://static.bc-edx.com/data/web/mars_news/index.html\n",
    "url = \"https://static.bc-edx.com/data/web/mars_news/index.html\""
   ]
  },
  {
   "cell_type": "code",
   "execution_count": 4,
   "metadata": {},
   "outputs": [],
   "source": [
    "browser.visit(url)"
   ]
  },
  {
   "cell_type": "code",
   "execution_count": 5,
   "metadata": {},
   "outputs": [],
   "source": [
    "html = browser.html"
   ]
  },
  {
   "cell_type": "code",
   "execution_count": 7,
   "metadata": {},
   "outputs": [],
   "source": [
    "# Create a Beautiful Soup object\n",
    "soup_object = soup(html, \"html.parser\") "
   ]
  },
  {
   "cell_type": "code",
   "execution_count": 23,
   "metadata": {},
   "outputs": [
    {
     "data": {
      "text/plain": [
       "\"\\n\\n\\n\\n\\nMARS Planet Science\\nExploration Program\\n\\n\\n\\n\\n\\n\\n\\nThe Red Planet\\n\\n\\nThe Program\\n\\n\\nNews & Events\\n\\n\\nMultimedia\\n\\n\\nMissions\\n\\n\\nMore\\n\\n\\n\\n\\n\\n\\n\\n\\n\\n\\nNews\\n\\n\\n\\n\\n\\n\\n\\n\\nLatest\\n\\n\\n\\n\\nAll Categories\\n\\n\\n\\n\\n\\n\\n\\n\\n\\n\\n\\n\\n\\n\\n\\n\\n\\n\\n\\n\\nNovember 9, 2022\\nNASA's MAVEN Observes Martian Light Show Caused by Major Solar Storm\\nFor the first time in its eight years orbiting Mars, NASA’s MAVEN mission witnessed two different types of ultraviolet aurorae simultaneously, the result of solar storms that began on Aug. 27.\\n\\n\\n\\n\\n\\n\\n\\n\\n\\n\\n\\n\\n\\n\\nNovember 1, 2022\\nNASA Prepares to Say 'Farewell' to InSight Spacecraft\\nA closer look at what goes into wrapping up the mission as the spacecraft’s power supply continues to dwindle.\\n\\n\\n\\n\\n\\n\\n\\n\\n\\n\\n\\n\\n\\n\\nOctober 28, 2022\\nNASA and ESA Agree on Next Steps to Return Mars Samples to Earth\\nThe agency’s Perseverance rover will establish the first sample depot on Mars.\\n\\n\\n\\n\\n\\n\\n\\n\\n\\n\\n\\n\\n\\n\\nOctober 27, 2022\\nNASA's InSight Lander Detects Stunning Meteoroid Impact on Mars\\nThe agency’s lander felt the ground shake during the impact while cameras aboard the Mars Reconnaissance Orbiter spotted the yawning new crater from space.\\n\\n\\n\\n\\n\\n\\n\\n\\n\\n\\n\\n\\n\\n\\nOctober 21, 2022\\nNASA To Host Briefing on InSight, Mars Reconnaissance Orbiter Findings\\nScientists from two Mars missions will discuss how they combined images and data for a major finding on the Red Planet.\\n\\n\\n\\n\\n\\n\\n\\n\\n\\n\\n\\n\\n\\n\\nOctober 20, 2022\\nWhy NASA Is Trying To Crash Land on Mars\\nLike a car’s crumple zone, the experimental SHIELD lander is designed to absorb a hard impact.\\n\\n\\n\\n\\n\\n\\n\\n\\n\\n\\n\\n\\n\\n\\nOctober 19, 2022\\nCuriosity Mars Rover Reaches Long-Awaited Salty Region\\nAfter years of climbing, the Mars rover has arrived at a special region believed to have formed as Mars’ climate was drying.\\n\\n\\n\\n\\n\\n\\n\\n\\n\\n\\n\\n\\n\\n\\nOctober 12, 2022\\nMars Mission Shields Up for Tests\\nProtecting Mars Sample Return spacecraft from micrometeorites requires high-caliber work.\\n\\n\\n\\n\\n\\n\\n\\n\\n\\n\\n\\n\\n\\n\\nOctober 7, 2022\\nNASA's InSight Waits Out Dust Storm\\nInSight’s team is taking steps to help the solar-powered lander continue operating for as long as possible.\\n\\n\\n\\n\\n\\n\\n\\n\\n\\n\\n\\n\\n\\n\\nSeptember 19, 2022\\nNASA's InSight 'Hears' Its First Meteoroid Impacts on Mars\\nThe Mars lander’s seismometer has picked up vibrations from four separate impacts in the past two years.\\n\\n\\n\\n\\n\\n\\n\\n\\n\\n\\n\\n\\n\\n\\nSeptember 15, 2022\\nNASA's Perseverance Rover Investigates Geologically Rich Mars Terrain\\nThe latest findings provide greater detail on a region of the Red Planet that has a watery past and is yielding promising samples for the NASA-ESA Mars Sample Return campaign.\\n\\n\\n\\n\\n\\n\\n\\n\\n\\n\\n\\n\\n\\n\\nSeptember 12, 2022\\nNASA to Host Briefing on Perseverance Mars Rover Mission Operations\\nMembers of the mission will discuss the rover’s activities as it gathers samples in an ancient river delta.\\n\\n\\n\\n\\n\\n\\n\\n\\n\\n\\n\\n\\n\\n\\nAugust 25, 2022\\nNASA's Perseverance Makes New Discoveries in Mars' Jezero Crater\\nThe rover found that Jezero Crater’s floor is made up of volcanic rocks that have interacted with water.\\n\\n\\n\\n\\n\\n\\n\\n\\n\\n\\n\\n\\n\\n\\nAugust 5, 2022\\n10 Years Since Landing, NASA's Curiosity Mars Rover Still Has Drive\\nDespite signs of wear, the intrepid spacecraft is about to start an exciting new chapter of its mission as it climbs a Martian mountain.\\n\\n\\n\\n\\n\\n\\n\\n\\n\\n\\n\\n\\n\\n\\nAugust 4, 2022\\nSAM's Top 5 Discoveries Aboard NASA's Curiosity Rover at Mars\\n“Selfie” of the Curiosity rover with inset showing the SAM instrument prior to installation on the rover.\\n\\n\\n\\n\\n\\n\\nMore\\n\\n\\n\\n\\n\\nYou Might Also Like\\n\\n\\n\\n\\n\\n\\n\\n\\n\\n\\nNASA Marks 25 Years Since Pathfinder Touched Down on Mars\\n\\n\\n\\n\\n\\n\\n\\nNASA's Perseverance Rover Captures Video of Solar Eclipse on Mars\\n\\n\\n\\n\\n\\n\\n\\nNASA, UAE Mars Missions Agree to Share Science Data\\n\\n\\n\\n\\n\\n\\n\\n\\n\\n\\n\\n\\n\\n\\n\\n\\nThe Red Planet\\n\\nDashboard\\nScience Goals\\nThe Planet\\n\\n\\n\\nThe Program\\n\\nMission Statement\\nAbout the Program\\nOrganization Why Mars?\\n\\n\\n\\nMultimedia\\n\\nImages\\nVideos\\nMore Resources\\n\\n\\n\\nMissions\\n\\nPast\\nPresent\\nFuture\\n\\n\\n\\n\\n\\n\\n\\nImages and news content extracted from NASA's Mars News website on November 9, 2022.\\n         Images used in accordance with the JPL Image Use Policy.\\n\\nThis site is operated by edX Boot Camps LLC for educational purposes only.  \\n            This is not a website endorsed by NASA. This website is intended only for internal academic purposes.\\n\\n\\n\""
      ]
     },
     "execution_count": 23,
     "metadata": {},
     "output_type": "execute_result"
    }
   ],
   "source": [
    "# Extract all the text elements\n",
    "text_elements = soup_object.find('div').text\n",
    "text_elements"
   ]
  },
  {
   "cell_type": "markdown",
   "metadata": {},
   "source": [
    "### Step 3: Store the Results\n",
    "\n",
    "Extract the titles and preview text of the news articles that you scraped. Store the scraping results in Python data structures as follows:\n",
    "\n",
    "* Store each title-and-preview pair in a Python dictionary. And, give each dictionary two keys: `title` and `preview`. An example is the following:\n",
    "\n",
    "  ```python\n",
    "  {'title': \"NASA's MAVEN Observes Martian Light Show Caused by Major Solar Storm\", \n",
    "   'preview': \"For the first time in its eight years orbiting Mars, NASA’s MAVEN mission witnessed two different types of ultraviolet aurorae simultaneously, the result of solar storms that began on Aug. 27.\"\n",
    "  }\n",
    "  ```\n",
    "\n",
    "* Store all the dictionaries in a Python list.\n",
    "\n",
    "* Print the list in your notebook."
   ]
  },
  {
   "cell_type": "code",
   "execution_count": 26,
   "metadata": {},
   "outputs": [
    {
     "data": {
      "text/plain": [
       "[<div class=\"content_title\">NASA's MAVEN Observes Martian Light Show Caused by Major Solar Storm</div>,\n",
       " <div class=\"content_title\">NASA Prepares to Say 'Farewell' to InSight Spacecraft</div>,\n",
       " <div class=\"content_title\">NASA and ESA Agree on Next Steps to Return Mars Samples to Earth</div>,\n",
       " <div class=\"content_title\">NASA's InSight Lander Detects Stunning Meteoroid Impact on Mars</div>,\n",
       " <div class=\"content_title\">NASA To Host Briefing on InSight, Mars Reconnaissance Orbiter Findings</div>,\n",
       " <div class=\"content_title\">Why NASA Is Trying To Crash Land on Mars</div>,\n",
       " <div class=\"content_title\">Curiosity Mars Rover Reaches Long-Awaited Salty Region</div>,\n",
       " <div class=\"content_title\">Mars Mission Shields Up for Tests</div>,\n",
       " <div class=\"content_title\">NASA's InSight Waits Out Dust Storm</div>,\n",
       " <div class=\"content_title\">NASA's InSight 'Hears' Its First Meteoroid Impacts on Mars</div>,\n",
       " <div class=\"content_title\">NASA's Perseverance Rover Investigates Geologically Rich Mars Terrain</div>,\n",
       " <div class=\"content_title\">NASA to Host Briefing on Perseverance Mars Rover Mission Operations</div>,\n",
       " <div class=\"content_title\">NASA's Perseverance Makes New Discoveries in Mars' Jezero Crater</div>,\n",
       " <div class=\"content_title\">10 Years Since Landing, NASA's Curiosity Mars Rover Still Has Drive</div>,\n",
       " <div class=\"content_title\">SAM's Top 5 Discoveries Aboard NASA's Curiosity Rover at Mars</div>]"
      ]
     },
     "execution_count": 26,
     "metadata": {},
     "output_type": "execute_result"
    }
   ],
   "source": [
    "title = soup_object.find_all('div', class_= 'content_title')\n",
    "title"
   ]
  },
  {
   "cell_type": "code",
   "execution_count": 27,
   "metadata": {},
   "outputs": [
    {
     "data": {
      "text/plain": [
       "[<div class=\"article_teaser_body\">For the first time in its eight years orbiting Mars, NASA’s MAVEN mission witnessed two different types of ultraviolet aurorae simultaneously, the result of solar storms that began on Aug. 27.</div>,\n",
       " <div class=\"article_teaser_body\">A closer look at what goes into wrapping up the mission as the spacecraft’s power supply continues to dwindle.</div>,\n",
       " <div class=\"article_teaser_body\">The agency’s Perseverance rover will establish the first sample depot on Mars.</div>,\n",
       " <div class=\"article_teaser_body\">The agency’s lander felt the ground shake during the impact while cameras aboard the Mars Reconnaissance Orbiter spotted the yawning new crater from space.</div>,\n",
       " <div class=\"article_teaser_body\">Scientists from two Mars missions will discuss how they combined images and data for a major finding on the Red Planet.</div>,\n",
       " <div class=\"article_teaser_body\">Like a car’s crumple zone, the experimental SHIELD lander is designed to absorb a hard impact.</div>,\n",
       " <div class=\"article_teaser_body\">After years of climbing, the Mars rover has arrived at a special region believed to have formed as Mars’ climate was drying.</div>,\n",
       " <div class=\"article_teaser_body\">Protecting Mars Sample Return spacecraft from micrometeorites requires high-caliber work.</div>,\n",
       " <div class=\"article_teaser_body\">InSight’s team is taking steps to help the solar-powered lander continue operating for as long as possible.</div>,\n",
       " <div class=\"article_teaser_body\">The Mars lander’s seismometer has picked up vibrations from four separate impacts in the past two years.</div>,\n",
       " <div class=\"article_teaser_body\">The latest findings provide greater detail on a region of the Red Planet that has a watery past and is yielding promising samples for the NASA-ESA Mars Sample Return campaign.</div>,\n",
       " <div class=\"article_teaser_body\">Members of the mission will discuss the rover’s activities as it gathers samples in an ancient river delta.</div>,\n",
       " <div class=\"article_teaser_body\">The rover found that Jezero Crater’s floor is made up of volcanic rocks that have interacted with water.</div>,\n",
       " <div class=\"article_teaser_body\">Despite signs of wear, the intrepid spacecraft is about to start an exciting new chapter of its mission as it climbs a Martian mountain.</div>,\n",
       " <div class=\"article_teaser_body\">“Selfie” of the Curiosity rover with inset showing the SAM instrument prior to installation on the rover.</div>]"
      ]
     },
     "execution_count": 27,
     "metadata": {},
     "output_type": "execute_result"
    }
   ],
   "source": [
    "preview = soup_object.find_all('div', class_= 'article_teaser_body')\n",
    "preview"
   ]
  },
  {
   "cell_type": "code",
   "execution_count": 57,
   "metadata": {},
   "outputs": [],
   "source": [
    "# Create an empty list to store the dictionaries\n",
    "python_list = []"
   ]
  },
  {
   "cell_type": "code",
   "execution_count": 41,
   "metadata": {},
   "outputs": [],
   "source": [
    "# Loop through the text elements\n",
    "# Extract the title and preview text from the elements\n",
    "# Store each title and preview pair in a dictionary\n",
    "# Add the dictionary to the list"
   ]
  },
  {
   "cell_type": "code",
   "execution_count": 58,
   "metadata": {},
   "outputs": [],
   "source": [
    "text_elements = soup_object.find_all('div', class_='list_text')\n",
    "\n",
    "for div in text_elements:\n",
    "    title = div.find('div', class_='content_title').text\n",
    "    preview = div.find('div', class_= 'article_teaser_body').text\n",
    "    python_dict = {\n",
    "        'title': title,\n",
    "        'preview': preview\n",
    "    }\n",
    "    python_list.append(python_dict)"
   ]
  },
  {
   "cell_type": "code",
   "execution_count": 59,
   "metadata": {},
   "outputs": [
    {
     "data": {
      "text/plain": [
       "[{'title': \"NASA's MAVEN Observes Martian Light Show Caused by Major Solar Storm\",\n",
       "  'preview': 'For the first time in its eight years orbiting Mars, NASA’s MAVEN mission witnessed two different types of ultraviolet aurorae simultaneously, the result of solar storms that began on Aug. 27.'},\n",
       " {'title': \"NASA Prepares to Say 'Farewell' to InSight Spacecraft\",\n",
       "  'preview': 'A closer look at what goes into wrapping up the mission as the spacecraft’s power supply continues to dwindle.'},\n",
       " {'title': 'NASA and ESA Agree on Next Steps to Return Mars Samples to Earth',\n",
       "  'preview': 'The agency’s Perseverance rover will establish the first sample depot on Mars.'},\n",
       " {'title': \"NASA's InSight Lander Detects Stunning Meteoroid Impact on Mars\",\n",
       "  'preview': 'The agency’s lander felt the ground shake during the impact while cameras aboard the Mars Reconnaissance Orbiter spotted the yawning new crater from space.'},\n",
       " {'title': 'NASA To Host Briefing on InSight, Mars Reconnaissance Orbiter Findings',\n",
       "  'preview': 'Scientists from two Mars missions will discuss how they combined images and data for a major finding on the Red Planet.'},\n",
       " {'title': 'Why NASA Is Trying To Crash Land on Mars',\n",
       "  'preview': 'Like a car’s crumple zone, the experimental SHIELD lander is designed to absorb a hard impact.'},\n",
       " {'title': 'Curiosity Mars Rover Reaches Long-Awaited Salty Region',\n",
       "  'preview': 'After years of climbing, the Mars rover has arrived at a special region believed to have formed as Mars’ climate was drying.'},\n",
       " {'title': 'Mars Mission Shields Up for Tests',\n",
       "  'preview': 'Protecting Mars Sample Return spacecraft from micrometeorites requires high-caliber work.'},\n",
       " {'title': \"NASA's InSight Waits Out Dust Storm\",\n",
       "  'preview': 'InSight’s team is taking steps to help the solar-powered lander continue operating for as long as possible.'},\n",
       " {'title': \"NASA's InSight 'Hears' Its First Meteoroid Impacts on Mars\",\n",
       "  'preview': 'The Mars lander’s seismometer has picked up vibrations from four separate impacts in the past two years.'},\n",
       " {'title': \"NASA's Perseverance Rover Investigates Geologically Rich Mars Terrain\",\n",
       "  'preview': 'The latest findings provide greater detail on a region of the Red Planet that has a watery past and is yielding promising samples for the NASA-ESA Mars Sample Return campaign.'},\n",
       " {'title': 'NASA to Host Briefing on Perseverance Mars Rover Mission Operations',\n",
       "  'preview': 'Members of the mission will discuss the rover’s activities as it gathers samples in an ancient river delta.'},\n",
       " {'title': \"NASA's Perseverance Makes New Discoveries in Mars' Jezero Crater\",\n",
       "  'preview': 'The rover found that Jezero Crater’s floor is made up of volcanic rocks that have interacted with water.'},\n",
       " {'title': \"10 Years Since Landing, NASA's Curiosity Mars Rover Still Has Drive\",\n",
       "  'preview': 'Despite signs of wear, the intrepid spacecraft is about to start an exciting new chapter of its mission as it climbs a Martian mountain.'},\n",
       " {'title': \"SAM's Top 5 Discoveries Aboard NASA's Curiosity Rover at Mars\",\n",
       "  'preview': '“Selfie” of the Curiosity rover with inset showing the SAM instrument prior to installation on the rover.'}]"
      ]
     },
     "execution_count": 59,
     "metadata": {},
     "output_type": "execute_result"
    }
   ],
   "source": [
    "# Print the list to confirm success\n",
    "python_list"
   ]
  },
  {
   "cell_type": "code",
   "execution_count": 60,
   "metadata": {},
   "outputs": [],
   "source": [
    "browser.quit()"
   ]
  },
  {
   "cell_type": "code",
   "execution_count": null,
   "metadata": {},
   "outputs": [],
   "source": []
  }
 ],
 "metadata": {
  "kernelspec": {
   "display_name": "Python 3 (ipykernel)",
   "language": "python",
   "name": "python3"
  },
  "language_info": {
   "codemirror_mode": {
    "name": "ipython",
    "version": 3
   },
   "file_extension": ".py",
   "mimetype": "text/x-python",
   "name": "python",
   "nbconvert_exporter": "python",
   "pygments_lexer": "ipython3",
   "version": "3.9.13 (main, Aug 25 2022, 18:29:29) \n[Clang 12.0.0 ]"
  },
  "vscode": {
   "interpreter": {
    "hash": "9b1dbc7556de1ff1c045cc53059a1df55b04b12b246f36c19fdd2c5d393a8af6"
   }
  }
 },
 "nbformat": 4,
 "nbformat_minor": 4
}
